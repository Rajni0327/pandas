{
 "cells": [
  {
   "cell_type": "code",
   "execution_count": null,
   "id": "87d74691-69cc-4168-a3ef-76f3ba626ea3",
   "metadata": {},
   "outputs": [],
   "source": []
  }
 ],
 "metadata": {
  "kernelspec": {
   "display_name": "",
   "name": ""
  },
  "language_info": {
   "name": ""
  }
 },
 "nbformat": 4,
 "nbformat_minor": 5
}
