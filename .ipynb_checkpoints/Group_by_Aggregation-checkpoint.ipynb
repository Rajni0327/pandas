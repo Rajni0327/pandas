{
 "cells": [
  {
   "cell_type": "code",
   "execution_count": 2,
   "id": "539d7d53-0ac7-47f0-b729-f5a59a6f0d89",
   "metadata": {},
   "outputs": [],
   "source": [
    "import numpy as np\n",
    "import pandas as pd"
   ]
  },
  {
   "cell_type": "markdown",
   "id": "b555adf9-9304-4d6a-93a2-e479ab7ff2a9",
   "metadata": {},
   "source": [
    "# GroupBy"
   ]
  },
  {
   "cell_type": "code",
   "execution_count": 3,
   "id": "b7ef5a7d-6bfa-4be8-adbb-ffd137ca3979",
   "metadata": {},
   "outputs": [],
   "source": [
    "data = {\n",
    "    'Category': ['A', 'B', 'A', 'B', 'A', 'B', 'A', 'B'],\n",
    "    'Store': ['S1', 'S1', 'S2', 'S2', 'S1', 'S2', 'S2', 'S1'],\n",
    "    'Sales': [100, 200, 150, 250, 120, 180, 200, 300],\n",
    "    'Quantity': [10, 15, 12, 18, 8, 20, 15, 25],\n",
    "    'Date': pd.date_range('2023-01-01', periods=8)\n",
    "}\n",
    "df = pd.DataFrame(data)"
   ]
  },
  {
   "cell_type": "code",
   "execution_count": 7,
   "id": "d80d2f43-8092-4a72-b8f8-1fb6edfbe767",
   "metadata": {},
   "outputs": [
    {
     "data": {
      "text/html": [
       "<div>\n",
       "<style scoped>\n",
       "    .dataframe tbody tr th:only-of-type {\n",
       "        vertical-align: middle;\n",
       "    }\n",
       "\n",
       "    .dataframe tbody tr th {\n",
       "        vertical-align: top;\n",
       "    }\n",
       "\n",
       "    .dataframe thead th {\n",
       "        text-align: right;\n",
       "    }\n",
       "</style>\n",
       "<table border=\"1\" class=\"dataframe\">\n",
       "  <thead>\n",
       "    <tr style=\"text-align: right;\">\n",
       "      <th></th>\n",
       "      <th>Category</th>\n",
       "      <th>Store</th>\n",
       "      <th>Sales</th>\n",
       "      <th>Quantity</th>\n",
       "      <th>Date</th>\n",
       "    </tr>\n",
       "  </thead>\n",
       "  <tbody>\n",
       "    <tr>\n",
       "      <th>0</th>\n",
       "      <td>A</td>\n",
       "      <td>S1</td>\n",
       "      <td>100</td>\n",
       "      <td>10</td>\n",
       "      <td>2023-01-01</td>\n",
       "    </tr>\n",
       "    <tr>\n",
       "      <th>1</th>\n",
       "      <td>B</td>\n",
       "      <td>S1</td>\n",
       "      <td>200</td>\n",
       "      <td>15</td>\n",
       "      <td>2023-01-02</td>\n",
       "    </tr>\n",
       "    <tr>\n",
       "      <th>2</th>\n",
       "      <td>A</td>\n",
       "      <td>S2</td>\n",
       "      <td>150</td>\n",
       "      <td>12</td>\n",
       "      <td>2023-01-03</td>\n",
       "    </tr>\n",
       "    <tr>\n",
       "      <th>3</th>\n",
       "      <td>B</td>\n",
       "      <td>S2</td>\n",
       "      <td>250</td>\n",
       "      <td>18</td>\n",
       "      <td>2023-01-04</td>\n",
       "    </tr>\n",
       "    <tr>\n",
       "      <th>4</th>\n",
       "      <td>A</td>\n",
       "      <td>S1</td>\n",
       "      <td>120</td>\n",
       "      <td>8</td>\n",
       "      <td>2023-01-05</td>\n",
       "    </tr>\n",
       "    <tr>\n",
       "      <th>5</th>\n",
       "      <td>B</td>\n",
       "      <td>S2</td>\n",
       "      <td>180</td>\n",
       "      <td>20</td>\n",
       "      <td>2023-01-06</td>\n",
       "    </tr>\n",
       "    <tr>\n",
       "      <th>6</th>\n",
       "      <td>A</td>\n",
       "      <td>S2</td>\n",
       "      <td>200</td>\n",
       "      <td>15</td>\n",
       "      <td>2023-01-07</td>\n",
       "    </tr>\n",
       "    <tr>\n",
       "      <th>7</th>\n",
       "      <td>B</td>\n",
       "      <td>S1</td>\n",
       "      <td>300</td>\n",
       "      <td>25</td>\n",
       "      <td>2023-01-08</td>\n",
       "    </tr>\n",
       "  </tbody>\n",
       "</table>\n",
       "</div>"
      ],
      "text/plain": [
       "  Category Store  Sales  Quantity       Date\n",
       "0        A    S1    100        10 2023-01-01\n",
       "1        B    S1    200        15 2023-01-02\n",
       "2        A    S2    150        12 2023-01-03\n",
       "3        B    S2    250        18 2023-01-04\n",
       "4        A    S1    120         8 2023-01-05\n",
       "5        B    S2    180        20 2023-01-06\n",
       "6        A    S2    200        15 2023-01-07\n",
       "7        B    S1    300        25 2023-01-08"
      ]
     },
     "execution_count": 7,
     "metadata": {},
     "output_type": "execute_result"
    }
   ],
   "source": [
    "df"
   ]
  },
  {
   "cell_type": "code",
   "execution_count": null,
   "id": "58af27bb-b771-4199-b9f1-ffeed8eb9484",
   "metadata": {},
   "outputs": [],
   "source": []
  },
  {
   "cell_type": "code",
   "execution_count": null,
   "id": "a89887e4-0950-4fa8-bd4d-d8dbc95bc47d",
   "metadata": {},
   "outputs": [],
   "source": []
  },
  {
   "cell_type": "code",
   "execution_count": 11,
   "id": "b75cf504-d407-40b7-a403-1d43ea5d6a58",
   "metadata": {},
   "outputs": [
    {
     "data": {
      "text/plain": [
       "Category\n",
       "A    570\n",
       "B    930\n",
       "Name: Sales, dtype: int64"
      ]
     },
     "execution_count": 11,
     "metadata": {},
     "output_type": "execute_result"
    }
   ],
   "source": [
    "# group by category and caluclate the sum by sales\n",
    "\n",
    "cat = df.groupby('Category')['Sales'].sum()\n",
    "cat\n"
   ]
  },
  {
   "cell_type": "code",
   "execution_count": null,
   "id": "e1ef5352-6675-4a07-97f4-b120e8ac0176",
   "metadata": {},
   "outputs": [],
   "source": []
  },
  {
   "cell_type": "code",
   "execution_count": null,
   "id": "7f1a3934-bce2-4a7b-ad09-e3678831fc06",
   "metadata": {},
   "outputs": [],
   "source": []
  },
  {
   "cell_type": "code",
   "execution_count": 13,
   "id": "6f87635c-9e8a-4648-8582-3dab58f788c1",
   "metadata": {},
   "outputs": [
    {
     "data": {
      "text/plain": [
       "Store\n",
       "S1    720\n",
       "S2    780\n",
       "Name: Sales, dtype: int64"
      ]
     },
     "execution_count": 13,
     "metadata": {},
     "output_type": "execute_result"
    }
   ],
   "source": [
    "# group by store and calculate the sum of series \n",
    "\n",
    "cat = df.groupby('Store')['Sales'].sum()\n",
    "cat"
   ]
  },
  {
   "cell_type": "code",
   "execution_count": null,
   "id": "5be92fae-3d86-4f26-a7a6-92b09e9756fa",
   "metadata": {},
   "outputs": [],
   "source": []
  },
  {
   "cell_type": "code",
   "execution_count": null,
   "id": "81c73cad-18e8-4fd5-8890-731f2d161ce4",
   "metadata": {},
   "outputs": [],
   "source": []
  },
  {
   "cell_type": "code",
   "execution_count": 14,
   "id": "6cd74205-0283-4413-8cf2-265846afdc87",
   "metadata": {},
   "outputs": [
    {
     "data": {
      "text/plain": [
       "Category  Store\n",
       "A         S1       220\n",
       "          S2       350\n",
       "B         S1       500\n",
       "          S2       430\n",
       "Name: Sales, dtype: int64"
      ]
     },
     "execution_count": 14,
     "metadata": {},
     "output_type": "execute_result"
    }
   ],
   "source": [
    "# group by multiple columns\n",
    "# groupby category and store\n",
    "\n",
    "cat = df.groupby(['Category','Store'])['Sales'].sum()\n",
    "cat"
   ]
  },
  {
   "cell_type": "code",
   "execution_count": null,
   "id": "8e6f5699-ef07-4193-b76a-521f38951cc6",
   "metadata": {},
   "outputs": [],
   "source": []
  },
  {
   "cell_type": "markdown",
   "id": "ae0e3936-1a13-47ce-af8b-2ea370d81677",
   "metadata": {},
   "source": [
    "# Aggregation"
   ]
  },
  {
   "cell_type": "code",
   "execution_count": 16,
   "id": "1cebc744-901e-4ef3-bb6d-d998c87aa3d9",
   "metadata": {},
   "outputs": [
    {
     "data": {
      "text/plain": [
       "np.float64(187.5)"
      ]
     },
     "execution_count": 16,
     "metadata": {},
     "output_type": "execute_result"
    }
   ],
   "source": [
    "df['Sales'].mean()\n",
    "\n",
    "\"\"\"\n",
    "Other aggragation Function \n",
    "-mean\n",
    "-median\n",
    "-min\n",
    "-max\n",
    "-count\n",
    "-std (Standard deviation)\n",
    "\"\"\""
   ]
  },
  {
   "cell_type": "code",
   "execution_count": 19,
   "id": "031cdc66-3169-4677-84ea-5f63ad82dea2",
   "metadata": {},
   "outputs": [
    {
     "data": {
      "text/plain": [
       "sum       1500.000000\n",
       "mean       187.500000\n",
       "median     190.000000\n",
       "min        100.000000\n",
       "max        300.000000\n",
       "count        8.000000\n",
       "std         66.062741\n",
       "Name: Sales, dtype: float64"
      ]
     },
     "execution_count": 19,
     "metadata": {},
     "output_type": "execute_result"
    }
   ],
   "source": [
    "df['Sales'].agg(['sum','mean','median','min','max','count', 'std'])"
   ]
  },
  {
   "cell_type": "code",
   "execution_count": null,
   "id": "2029a337-93d8-4f1a-8547-31337ada29ba",
   "metadata": {},
   "outputs": [],
   "source": []
  }
 ],
 "metadata": {
  "kernelspec": {
   "display_name": "Python [conda env:base] *",
   "language": "python",
   "name": "conda-base-py"
  },
  "language_info": {
   "codemirror_mode": {
    "name": "ipython",
    "version": 3
   },
   "file_extension": ".py",
   "mimetype": "text/x-python",
   "name": "python",
   "nbconvert_exporter": "python",
   "pygments_lexer": "ipython3",
   "version": "3.13.5"
  }
 },
 "nbformat": 4,
 "nbformat_minor": 5
}
